{
 "cells": [
  {
   "cell_type": "code",
   "execution_count": 2,
   "metadata": {},
   "outputs": [
    {
     "name": "stdout",
     "output_type": "stream",
     "text": [
      "Starting data gathering...\n",
      "Getting data for Atraxa, Praetors' Voice...\n",
      "Getting data for The Ur-Dragon...\n",
      "Getting data for Yuriko, the Tiger's Shadow...\n",
      "Getting data for Krenko, Mob Boss...\n",
      "Getting data for Lathril, Blade of the Elves...\n",
      "Getting data for Kenrith, the Returned King...\n",
      "Getting data for Sauron, the Dark Lord...\n",
      "Getting data for Edgar Markov...\n",
      "Getting data for Miirym, Sentinel Wyrm...\n",
      "Getting data for Kaalia of the Vast...\n",
      "Getting data for Isshin, Two Heavens as One...\n",
      "Getting data for Gishath, Sun's Avatar...\n",
      "Getting data for Wilhelt, the Rotcleaver...\n",
      "Getting data for Nekusar, the Mindrazer...\n",
      "Getting data for Esika, God of the Tree...\n",
      "Getting data for Jodah, the Unifier...\n",
      "Getting data for Giada, Font of Hope...\n",
      "Getting data for Shorikai, Genesis Engine...\n",
      "Getting data for Pantlaza, Sun-Favored...\n",
      "Getting data for Aragorn, the Uniter...\n"
     ]
    },
    {
     "ename": "KeyboardInterrupt",
     "evalue": "",
     "output_type": "error",
     "traceback": [
      "\u001b[1;31m---------------------------------------------------------------------------\u001b[0m",
      "\u001b[1;31mKeyboardInterrupt\u001b[0m                         Traceback (most recent call last)",
      "File \u001b[1;32m~\\Documents\\edhrec_Python\\pyedhrec-0.0.2\\gather_commander_data.py:39\u001b[0m\n\u001b[0;32m     37\u001b[0m     commander \u001b[38;5;241m=\u001b[39m row[\u001b[38;5;124m'\u001b[39m\u001b[38;5;124mCommander\u001b[39m\u001b[38;5;124m'\u001b[39m]\n\u001b[0;32m     38\u001b[0m     \u001b[38;5;28mprint\u001b[39m(\u001b[38;5;124mf\u001b[39m\u001b[38;5;124m\"\u001b[39m\u001b[38;5;124mGetting data for \u001b[39m\u001b[38;5;132;01m{\u001b[39;00mcommander\u001b[38;5;132;01m}\u001b[39;00m\u001b[38;5;124m...\u001b[39m\u001b[38;5;124m\"\u001b[39m)\n\u001b[1;32m---> 39\u001b[0m     commander_data[commander] \u001b[38;5;241m=\u001b[39m \u001b[43mget_card_data\u001b[49m\u001b[43m(\u001b[49m\u001b[43medhrec\u001b[49m\u001b[43m,\u001b[49m\u001b[43m \u001b[49m\u001b[43mcommander\u001b[49m\u001b[43m)\u001b[49m\n\u001b[0;32m     41\u001b[0m \u001b[38;5;66;03m# Save to JSON file\u001b[39;00m\n\u001b[0;32m     42\u001b[0m \u001b[38;5;28;01mwith\u001b[39;00m \u001b[38;5;28mopen\u001b[39m(\u001b[38;5;124m'\u001b[39m\u001b[38;5;124mcommander_card_data.json\u001b[39m\u001b[38;5;124m'\u001b[39m, \u001b[38;5;124m'\u001b[39m\u001b[38;5;124mw\u001b[39m\u001b[38;5;124m'\u001b[39m) \u001b[38;5;28;01mas\u001b[39;00m f:\n",
      "File \u001b[1;32m~\\Documents\\edhrec_Python\\pyedhrec-0.0.2\\gather_commander_data.py:9\u001b[0m, in \u001b[0;36mget_card_data\u001b[1;34m(edhrec, commander)\u001b[0m\n\u001b[0;32m      7\u001b[0m \u001b[38;5;250m\u001b[39m\u001b[38;5;124;03m\"\"\"Get all card data for a specific commander\"\"\"\u001b[39;00m\n\u001b[0;32m      8\u001b[0m \u001b[38;5;28;01mtry\u001b[39;00m:\n\u001b[1;32m----> 9\u001b[0m     \u001b[43mtime\u001b[49m\u001b[38;5;241;43m.\u001b[39;49m\u001b[43msleep\u001b[49m\u001b[43m(\u001b[49m\u001b[38;5;241;43m1\u001b[39;49m\u001b[43m)\u001b[49m  \u001b[38;5;66;03m# Rate limiting\u001b[39;00m\n\u001b[0;32m     10\u001b[0m     \u001b[38;5;28;01mreturn\u001b[39;00m {\n\u001b[0;32m     11\u001b[0m         \u001b[38;5;124m\"\u001b[39m\u001b[38;5;124mHigh Synergy Cards\u001b[39m\u001b[38;5;124m\"\u001b[39m: edhrec\u001b[38;5;241m.\u001b[39mget_high_synergy_cards(commander),\n\u001b[0;32m     12\u001b[0m         \u001b[38;5;124m\"\u001b[39m\u001b[38;5;124mNew Cards\u001b[39m\u001b[38;5;124m\"\u001b[39m: edhrec\u001b[38;5;241m.\u001b[39mget_new_cards(commander),\n\u001b[1;32m   (...)\u001b[0m\n\u001b[0;32m     21\u001b[0m         \u001b[38;5;124m\"\u001b[39m\u001b[38;5;124mLands\u001b[39m\u001b[38;5;124m\"\u001b[39m: edhrec\u001b[38;5;241m.\u001b[39mget_top_lands(commander)\n\u001b[0;32m     22\u001b[0m     }\n\u001b[0;32m     23\u001b[0m \u001b[38;5;28;01mexcept\u001b[39;00m \u001b[38;5;167;01mException\u001b[39;00m \u001b[38;5;28;01mas\u001b[39;00m e:\n",
      "\u001b[1;31mKeyboardInterrupt\u001b[0m: "
     ]
    },
    {
     "name": "stdout",
     "output_type": "stream",
     "text": [
      "Data gathering complete!\n",
      "Starting data processing...\n"
     ]
    },
    {
     "ename": "TypeError",
     "evalue": "string indices must be integers, not 'str'",
     "output_type": "error",
     "traceback": [
      "\u001b[1;31m---------------------------------------------------------------------------\u001b[0m",
      "\u001b[1;31mTypeError\u001b[0m                                 Traceback (most recent call last)",
      "File \u001b[1;32m~\\Documents\\edhrec_Python\\pyedhrec-0.0.2\\prepare_viz_data.py:41\u001b[0m\n\u001b[0;32m     39\u001b[0m \u001b[38;5;28;01mfor\u001b[39;00m card_type \u001b[38;5;129;01min\u001b[39;00m [\u001b[38;5;124m\"\u001b[39m\u001b[38;5;124mInstants\u001b[39m\u001b[38;5;124m\"\u001b[39m, \u001b[38;5;124m\"\u001b[39m\u001b[38;5;124mArtifacts\u001b[39m\u001b[38;5;124m\"\u001b[39m, \u001b[38;5;124m\"\u001b[39m\u001b[38;5;124mCreatures\u001b[39m\u001b[38;5;124m\"\u001b[39m, \u001b[38;5;124m\"\u001b[39m\u001b[38;5;124mSorceries\u001b[39m\u001b[38;5;124m\"\u001b[39m, \u001b[38;5;124m\"\u001b[39m\u001b[38;5;124mEnchantments\u001b[39m\u001b[38;5;124m\"\u001b[39m]:\n\u001b[0;32m     40\u001b[0m     \u001b[38;5;28;01mif\u001b[39;00m commander_data[cmd1] \u001b[38;5;129;01mand\u001b[39;00m commander_data[cmd2]:\n\u001b[1;32m---> 41\u001b[0m         cards1 \u001b[38;5;241m=\u001b[39m [\u001b[43mcard\u001b[49m\u001b[43m[\u001b[49m\u001b[38;5;124;43m'\u001b[39;49m\u001b[38;5;124;43mname\u001b[39;49m\u001b[38;5;124;43m'\u001b[39;49m\u001b[43m]\u001b[49m \u001b[38;5;28;01mfor\u001b[39;00m card \u001b[38;5;129;01min\u001b[39;00m commander_data[cmd1]\u001b[38;5;241m.\u001b[39mget(card_type, [])] \u001b[38;5;28;01mif\u001b[39;00m commander_data[cmd1]\u001b[38;5;241m.\u001b[39mget(card_type) \u001b[38;5;28;01melse\u001b[39;00m []\n\u001b[0;32m     42\u001b[0m         cards2 \u001b[38;5;241m=\u001b[39m [card[\u001b[38;5;124m'\u001b[39m\u001b[38;5;124mname\u001b[39m\u001b[38;5;124m'\u001b[39m] \u001b[38;5;28;01mfor\u001b[39;00m card \u001b[38;5;129;01min\u001b[39;00m commander_data[cmd2]\u001b[38;5;241m.\u001b[39mget(card_type, [])] \u001b[38;5;28;01mif\u001b[39;00m commander_data[cmd2]\u001b[38;5;241m.\u001b[39mget(card_type) \u001b[38;5;28;01melse\u001b[39;00m []\n\u001b[0;32m     43\u001b[0m         overlap \u001b[38;5;241m=\u001b[39m calculate_card_overlap(cards1, cards2)\n",
      "\u001b[1;31mTypeError\u001b[0m: string indices must be integers, not 'str'"
     ]
    },
    {
     "name": "stdout",
     "output_type": "stream",
     "text": [
      "Data processing complete!\n",
      "\n",
      "Checking files:\n",
      "commander_card_data.json exists: True\n",
      "viz_data.json exists: False\n",
      "\n",
      "Server started at http://localhost:8000\n"
     ]
    }
   ],
   "source": [
    "# Cell 1 - Run the data gathering\n",
    "print(\"Starting data gathering...\")\n",
    "%run gather_commander_data.py\n",
    "print(\"Data gathering complete!\")\n",
    "\n",
    "# Cell 2 - Run the data processing\n",
    "print(\"Starting data processing...\")\n",
    "%run prepare_viz_data.py\n",
    "print(\"Data processing complete!\")\n",
    "\n",
    "# Verify files exist\n",
    "import os\n",
    "print(\"\\nChecking files:\")\n",
    "print(f\"commander_card_data.json exists: {os.path.exists('commander_card_data.json')}\")\n",
    "print(f\"viz_data.json exists: {os.path.exists('viz_data.json')}\")\n",
    "\n",
    "# Cell 3 - Start the server (optional)\n",
    "from http.server import HTTPServer, SimpleHTTPRequestHandler\n",
    "import webbrowser\n",
    "import threading\n",
    "\n",
    "def start_server():\n",
    "    server = HTTPServer(('localhost', 8000), SimpleHTTPRequestHandler)\n",
    "    server.serve_forever()\n",
    "\n",
    "# Start server in background\n",
    "thread = threading.Thread(target=start_server)\n",
    "thread.daemon = True\n",
    "thread.start()\n",
    "\n",
    "# Open browser\n",
    "webbrowser.open('http://localhost:8000/index.html')\n",
    "print(\"\\nServer started at http://localhost:8000\")"
   ]
  }
 ],
 "metadata": {
  "kernelspec": {
   "display_name": ".venv",
   "language": "python",
   "name": "python3"
  },
  "language_info": {
   "codemirror_mode": {
    "name": "ipython",
    "version": 3
   },
   "file_extension": ".py",
   "mimetype": "text/x-python",
   "name": "python",
   "nbconvert_exporter": "python",
   "pygments_lexer": "ipython3",
   "version": "3.13.1"
  }
 },
 "nbformat": 4,
 "nbformat_minor": 2
}
